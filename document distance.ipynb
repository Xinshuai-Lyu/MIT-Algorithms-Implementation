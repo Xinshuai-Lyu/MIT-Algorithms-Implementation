{
 "cells": [
  {
   "cell_type": "code",
   "execution_count": 25,
   "id": "addressed-beijing",
   "metadata": {},
   "outputs": [],
   "source": [
    "import re"
   ]
  },
  {
   "cell_type": "markdown",
   "id": "fifteen-machine",
   "metadata": {},
   "source": [
    "Proof for get_words_v2 by induction:\n",
    "\n",
    "1 after last character of doc and the loop number reached len(doc), the loop will stop. \n",
    "\n",
    "2\n",
    "when doc only contains a character, the loop number reached 1, if it is an alphnumeric character, this will return [\"x\"]; if not, this will return [], done.\n",
    "\n",
    "3.\n",
    "assume N is true, to prove N+1 is also true.\n",
    "\n",
    "Case1: doc[N] is not alnum, loop number reached N+1, last_word=\"\", so out of loop, words will not append more, the result is get_words_v2(doc with N characters)=R;\n",
    "\n",
    "Case2: doc[N] is an alnum, loop number reached N+1, last_word=R[-1] + doc[N] or last_word=doc[N], words.append(R[-1]+doc[N]) or words.append(doc[N]) out of the loop, the final result is [..., R[-1]+doc[N]] or [..., doc[N]]  done.\n",
    "\n",
    "4.\n",
    "done"
   ]
  },
  {
   "cell_type": "code",
   "execution_count": 35,
   "id": "according-hollywood",
   "metadata": {},
   "outputs": [],
   "source": [
    "def get_words_v1(doc):\n",
    "    return re.findall(\"\\w+\", doc) # Complexity usually is exponential\n",
    "def get_words_v2(doc):\n",
    "    last_word = \"\"\n",
    "    words = []\n",
    "    for char in doc: # Complexity is O(N)\n",
    "        if char.isalnum():\n",
    "            last_word += char\n",
    "        else:\n",
    "            if last_word:\n",
    "                words.append(last_word)\n",
    "            last_word = \"\"\n",
    "    if last_word:\n",
    "        words.append(last_word)\n",
    "    return words"
   ]
  },
  {
   "cell_type": "markdown",
   "id": "listed-proceeding",
   "metadata": {},
   "source": [
    "Proof for count_words_v1 by induction:\n",
    "\n",
    "1 \n",
    "after len(words) loop, the loop will stop.\n",
    "\n",
    "2 \n",
    "when only 0 words, words sorted [], loop is 0, return [];\n",
    "when only 1 words \"xxx\", words sorted [\"xxx\"], loop is 1, last_word_count = 1, words_count=[(\"xxx\", 1)] done\n",
    "\n",
    "3\n",
    "Assume N words True, to prove N+1 words True\n",
    "\n",
    "words sorted, before the 1st loop, last_word=words[0], last_word_count=0, words_list=[], count=[]; in the 1st loop, we know word==last_word, so last_word_count=1, words_list=[], count=[]; in the 2ed loop, we know the words are already sorted, so it either equal to last_word, then last_word_count += 1, or a new bigger word appears, then words_list=[\"1st word\"], count=[\"1st word count\"], last_word=the 2ed word, last_word_count=1; the logic here now is obvious, ..., in the n+1th loop, if word==last_word, we increase the last_word_count by 1, then out of the loop, we append the final word and count; if word != last_word, we append the second last to the 2 lists and make last_word=last word, last_word_count=1, then out of the loop, we record the last one. Done!\n",
    "\n",
    "4\n",
    "done"
   ]
  },
  {
   "cell_type": "code",
   "execution_count": 57,
   "id": "embedded-passage",
   "metadata": {},
   "outputs": [],
   "source": [
    "def count_words_v1(words):\n",
    "    words.sort() # depends on which sort algorithm used\n",
    "    last_word = words[0]\n",
    "    last_word_count = 0\n",
    "    words_list = []\n",
    "    count = []\n",
    "    for word in words: # Complexity O(n)\n",
    "        if word == last_word:\n",
    "            last_word_count += 1\n",
    "        else:\n",
    "            words_list.append(last_word)\n",
    "            count.append(last_word_count)\n",
    "            last_word = word\n",
    "            last_word_count = 1\n",
    "    words_list.append(last_word)\n",
    "    count.append(last_word_count)\n",
    "    return words_list, count"
   ]
  },
  {
   "cell_type": "markdown",
   "id": "alpine-appliance",
   "metadata": {},
   "source": [
    "Proof for count_words_v2 by induction:\n",
    "\n",
    "1 \n",
    "when loop number is len(words), the loop will stop\n",
    "\n",
    "2\n",
    "when len(words) == 0, loop number is 0, return {};\n",
    "when len(words) == 1, loop number is 1, return {\"xxx\":1}\n",
    "\n",
    "3\n",
    "Assume len(words)==N True, to prove len(words)==N+1\n",
    "\n",
    "if the words[N] is in words_dict, then just words[N] += 1, else words[N] = 1, and the loop number is N+1, obvious one. \n",
    "\n",
    "4 \n",
    "Done"
   ]
  },
  {
   "cell_type": "code",
   "execution_count": 43,
   "id": "occasional-spanish",
   "metadata": {},
   "outputs": [],
   "source": [
    "def count_words_v2(words):\n",
    "    words_dict = {}\n",
    "    for word in words: # Complexity O(n)\n",
    "        if word in words_dict:\n",
    "            words_dict[word] += 1\n",
    "        else:\n",
    "            words_dict[word] = 1\n",
    "    return words_dict"
   ]
  },
  {
   "cell_type": "markdown",
   "id": "qualified-compound",
   "metadata": {},
   "source": [
    "Proof for calculate_document_distance_v1\n",
    "\n",
    "1 when outer loop number is len(words_count1) (ignore the inner loop), the loop will stop.\n",
    "\n",
    "2 when len(words_count1)==0, outter loop number is 0, return 0;\n",
    "  when len(words_count1)==1, if the word can be found in words2, then sum = count1[0]*count2[i]/len(words_count2), done\n",
    "  \n",
    "3 Assume len(words_count1)==N True, to prove len(words_count1)==N+1 True\n",
    "  when 1st loop number, if word can be found in words2, then we have correct sum or 0; when 2ed loop number, if word can be found in words2, then we have correct sum or 0, ..., logic is obvious, when loop number is N+1, if word can be found in words2, then we have correct sum. out of loop, we normalize the result. \n",
    "  \n",
    "4 \n",
    "Done"
   ]
  },
  {
   "cell_type": "code",
   "execution_count": 79,
   "id": "published-devon",
   "metadata": {},
   "outputs": [],
   "source": [
    "def calculate_document_distance_v1(words_count1, words_count2):\n",
    "    _sum_ = 0\n",
    "    words2, count2 = words_count2\n",
    "    for i, word in enumerate(words_count1[0]): # Complexity O(n^2)\n",
    "        for j, word2 in enumerate(words2):\n",
    "            if word == word2:\n",
    "                _sum_ += words_count1[1][i] * count2[j]\n",
    "                break\n",
    "    return _sum_/(sum(words_count1[1])*sum(words_count2[1]))"
   ]
  },
  {
   "cell_type": "markdown",
   "id": "sticky-airfare",
   "metadata": {},
   "source": [
    "Proof for calculate_document_distance_v2 by Induction\n",
    "\n",
    "1 When i==len(words1) or j==len(words2), the loop will stop.\n",
    "\n",
    "2 when (1,0) (0,1) (0,0) return 0, correct; when (1,1), if words1[0] == words2[0], return correct sum, i=1, j=1, or _sum_=0, i or j == 1.\n",
    "\n",
    "3 Assume M, N True, to prove (M,N+1), (M+1,N), (M+1, N+1) True.\n",
    "\n",
    "Before the 1st loop, _sum_=0, i,j=0, in the 1st loop, when words1[0]==words2[0], _sum_ is correct, i,j+=1; or words1[i] < words2[j], it means maybe we can find words1[i+1] == words2[j], for words are sorted, so we make j unchanged, i+=1, same for last option; when i or j == its length, it means other remaining words are all bigger, so no meaning to compare. Out of the loop, the _sum_ result will be correct.\n",
    "\n",
    "4\n",
    "Done\n"
   ]
  },
  {
   "cell_type": "code",
   "execution_count": 82,
   "id": "latest-jones",
   "metadata": {},
   "outputs": [],
   "source": [
    "def calculate_document_distance_v2(words_count1, words_count2):\n",
    "    _sum_ = 0\n",
    "    words1, count1 = words_count1\n",
    "    words2, count2 = words_count2\n",
    "    i = 0\n",
    "    j = 0\n",
    "    while i<len(words1) and j<len(words2): # Complexity O(n)\n",
    "        if words[i] == words2[j]:\n",
    "            _sum_ += count1[i] * count2[j]\n",
    "            i += 1\n",
    "            j += 1\n",
    "        elif words[i] < words2[j]:\n",
    "            i += 1\n",
    "        else:\n",
    "            j += 1\n",
    "    return _sum_/(sum(count1)*sum(count2))"
   ]
  },
  {
   "cell_type": "code",
   "execution_count": 123,
   "id": "hundred-knife",
   "metadata": {},
   "outputs": [],
   "source": [
    "def calculate_document_distance_main(doc1, doc2, get_words, count_words, calculate_document_distance):\n",
    "    words1 = get_words(doc1)\n",
    "    words2 = get_words(doc2)\n",
    "    words_count1 = count_words(words1)\n",
    "    words_count2 = count_words(words2)\n",
    "    distance = calculate_document_distance(words_count1, words_count2)\n",
    "    return distance"
   ]
  },
  {
   "cell_type": "code",
   "execution_count": 124,
   "id": "broke-drawing",
   "metadata": {},
   "outputs": [],
   "source": [
    "doc1 = \"I love you and my cat\"\n",
    "doc2 = \"I do not love you and your dog\"\n",
    "doc3 = \"I love you and me\"\n",
    "doc4 = \"I love you and my cat\"\n",
    "doc5 = \"hate something\"\n",
    "distance1 = calculate_document_distance_main(doc1, doc2, get_words_v1, count_words_v1, calculate_document_distance_v1)\n",
    "distance2 = calculate_document_distance_main(doc1, doc2, get_words_v1, count_words_v1, calculate_document_distance_v2)\n",
    "distance3 = calculate_document_distance_main(doc1, doc3, get_words_v1, count_words_v1, calculate_document_distance_v2)\n",
    "distance4 = calculate_document_distance_main(doc1, doc4, get_words_v1, count_words_v1, calculate_document_distance_v2)\n",
    "distance5 = calculate_document_distance_main(doc1, doc5, get_words_v1, count_words_v1, calculate_document_distance_v2)\n",
    "assert(distance1 == distance2)\n",
    "assert(distance3 > distancev2)\n",
    "assert(distance4 > distance3)\n",
    "assert(distance5 == 0)"
   ]
  }
 ],
 "metadata": {
  "kernelspec": {
   "display_name": "Python 3",
   "language": "python",
   "name": "python3"
  },
  "language_info": {
   "codemirror_mode": {
    "name": "ipython",
    "version": 3
   },
   "file_extension": ".py",
   "mimetype": "text/x-python",
   "name": "python",
   "nbconvert_exporter": "python",
   "pygments_lexer": "ipython3",
   "version": "3.8.8"
  }
 },
 "nbformat": 4,
 "nbformat_minor": 5
}
