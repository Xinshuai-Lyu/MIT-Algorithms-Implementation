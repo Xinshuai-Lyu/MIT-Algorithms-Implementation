{
 "cells": [
  {
   "cell_type": "markdown",
   "metadata": {},
   "source": [
    "#### proof for insert by induction"
   ]
  },
  {
   "cell_type": "markdown",
   "metadata": {},
   "source": [
    "proof for insert by induction\n",
    "\n",
    "1\n",
    "in any recursive zone, when found abs(parent.key - node.key) < interval, loop will stop;\n",
    "or all nodes do not have conflict with the new node, the loop will stop when the new node locate in its correct position.\n",
    "\n",
    "2\n",
    "when root = None, node1 = Node(v1), because not root, so root = node1.\n",
    "when only has a root node node1, node2 = Node(v2), we go to else block, parent=node1 and in the 1st recursive __insert__(node2, node1), 1) if no landing time conflict and node2 < node1, node1.left_child = node2, is_allowed=True, then node1.num_of_nodes increases by 1, correct. 2) if no landing time conflict and node2 > node1, node1.right_child = node2, is_allowed=True, then node1.number_of_nodes increases by 1, correct. 3) if landing time conflicts, warn and is_allowed=False, the whole tree still only has node1 and node1.num_of_nodes = 1, correct.\n",
    "\n",
    "3\n",
    "Assume when with N nodes is true, to prove with N+1 nodes is also true.\n",
    "\n",
    "Insert the n+1th $node_{n+1}$, the 1st recursive __insert__($node_{n+1}$, root), 1) if landing time conflicts, warn and is_allowed=False, stop immediately, correct. 2) if $node_{n+1}$ < root, 2.1) if root does not have left child, be new node parent, and is_allowed=True, then root.num_of_nodes increase by 1, correct. 2.2) if root does have left child, then goes to 2ed recursive run __insert__($node_{n+1}$, root.left_child), 2.2.1) if landing time conflicts, is_allowed=False, return False and back to 1st recursive run and its is_allowed also False, finish. 2.2.2) if $node_{n+1}$>=rlc_node and rlc_node does not have right_child, then rlc_node.right_child=$node_{n+1}$, is_allowed=True, then rlc_node.num_of_nodes += 1, and back to recursive 1 and its is_allowed=True, then root.num_of_nodes += 1......I will stop here\n",
    "\n",
    "4\n",
    "Done"
   ]
  },
  {
   "cell_type": "markdown",
   "metadata": {},
   "source": [
    "#### proof for find by induction"
   ]
  },
  {
   "cell_type": "markdown",
   "metadata": {},
   "source": [
    "proof for find by induction\n",
    "\n",
    "1\n",
    "the node will be none, then stop; or we find a node with val, we also stop.\n",
    "\n",
    "2\n",
    "when root is None, directly return None;\n",
    "when the BST has one node, root. if equal to val, then return root; or it goes to the 1st recursive and return None\n",
    "\n",
    "3\n",
    "Assume when N nodes in the BST, to prove N + 1 nodes still true. 1) when root=val, then return root, correct; when root>val, then goes to the 1st recursive with parent=root.left_child, if root.left_child equals to val, then return root.left_child and back the original calling function, then the calling function return root.left_child..... I can stop here \n",
    "\n",
    "4\n",
    "Done"
   ]
  },
  {
   "cell_type": "markdown",
   "metadata": {},
   "source": [
    "#### proof for findmin by induction"
   ]
  },
  {
   "cell_type": "markdown",
   "metadata": {},
   "source": [
    "proof for findmin by induction\n",
    "\n",
    "1\n",
    "if not root, stops; or when parent.left_child=None, stops.\n",
    "\n",
    "2\n",
    "when root=None, return None;\n",
    "when only root, then parent=root, parent.left_child=None, so return root\n",
    "\n",
    "3\n",
    "Assume when with N nodes is true, to prove with N+1 nodes is true. before while, parent=root, parent.left_child != None, so parent = parent.left_child, the parent must not None......if when parent.left_child is None, then parent is the leftmost. Done\n",
    "\n",
    "4\n",
    "Done"
   ]
  },
  {
   "cell_type": "markdown",
   "metadata": {},
   "source": [
    "#### proof for next_larger by induction"
   ]
  },
  {
   "cell_type": "markdown",
   "metadata": {},
   "source": [
    "proof for next_larger by induction\n",
    "\n",
    "1\n",
    "if node.right_child has value, stop.\n",
    "else, either parent=None or child=\"left\", the while loop will stop.\n",
    "\n",
    "2\n",
    "if not root, return None. No larger node, correct. \n",
    "if only root, parent(root) => parent=None, child=right, return None. No larger node, correct. \n",
    "\n",
    "3\n",
    "Assume with N nodes true, to prove N+1 nodes true.\n",
    "\n",
    "if node.right_child has value, done.\n",
    "before while, parent(node)=>parent=node.parent, 1) if node is parent's left_child, child=\"left\", it means this parent is the first larger node, the while stop, return parent, correct. 2) if node is parent's right_child, child=\"right\", it means this parent is smaller node, go into the 1st while loop, parent(parent)=>parent, child.....until child=\"left\" or parent=None. Confident now.\n",
    "\n",
    "4\n",
    "Done"
   ]
  },
  {
   "cell_type": "markdown",
   "metadata": {},
   "source": [
    "#### proof for rank by induction"
   ]
  },
  {
   "cell_type": "markdown",
   "metadata": {},
   "source": [
    "proof for rank by induction\n",
    "\n",
    "1\n",
    "if not root, stops.\n",
    "if parent.key=t, stops.\n",
    "if not parent, stops.\n",
    "\n",
    "2\n",
    "when not root, return 0.\n",
    "when only root, 1) if root.key=t, return 1. 2) if root.key>t, return 0. 3) if root.key<t, return 1. all correct.\n",
    "\n",
    "3\n",
    "Assume with N nodes is true, to prove with N+1 nodes is also true.\n",
    "\n",
    "1st, parent=root 1) if parant.key == t, return 1+left_child_num_of_nodes. 2) if parent.key>t, so we only consider left subtree with t time...... 3) if parent.key < t, so parent + left subtree + consider right subtree with t time......\n",
    "\n",
    "4\n",
    "Done"
   ]
  },
  {
   "cell_type": "code",
   "execution_count": 17,
   "metadata": {},
   "outputs": [],
   "source": [
    "class Node:\n",
    "    def __init__(self, key):\n",
    "        self.parent = None # Add when implement parent function so this attribute does not appear in proofs\n",
    "        self.key = key # landing time\n",
    "        self.num_of_nodes = 1 # 1 planes + its children planes\n",
    "        self.left_child = None # planes whose landing time are less than this plane\n",
    "        self.right_child = None # planes whose landing time are greater than this plane\n",
    "class BST_for_airport_landing:\n",
    "    def __init__(self, k=3):\n",
    "        self.root = None\n",
    "        self.k = k # allowed interval for the upcoming airplane\n",
    "    def insert(self, val):\n",
    "        node = Node(val)\n",
    "        if not self.root:\n",
    "            self.root = node\n",
    "        else:\n",
    "            # the request landing time from the new airplane should be within k time to all other planes\n",
    "            parent = self.root\n",
    "            self.__insert__(node, parent)\n",
    "    def __insert__(self, node, parent):\n",
    "        interval = self.k\n",
    "        if node.key < parent.key and (parent.key - node.key) >= interval:\n",
    "            if not parent.left_child: \n",
    "                parent.left_child = node\n",
    "                node.parent = parent\n",
    "                is_allowed = True\n",
    "            else: \n",
    "                is_allowed = self.__insert__(node, parent.left_child)\n",
    "        elif node.key >= parent.key and (node.key - parent.key) >= interval:\n",
    "            if not parent.right_child: \n",
    "                parent.right_child = node\n",
    "                node.parent = parent\n",
    "                is_allowed = True\n",
    "            else:\n",
    "                is_allowed = self.__insert__(node, parent.right_child)\n",
    "        else:\n",
    "            print(\"It is dangerous for you to land at this request time!!!\")\n",
    "            is_allowed = False\n",
    "        if is_allowed: \n",
    "            parent.num_of_nodes += 1\n",
    "            return True\n",
    "        else: \n",
    "            return False\n",
    "    def find(self, val):\n",
    "        if not self.root:\n",
    "            return\n",
    "        if val == self.root.key:\n",
    "            return self.root\n",
    "        elif val < self.root.key:\n",
    "            parent = self.root.left_child\n",
    "            return self.__find__(val, parent)\n",
    "        else:\n",
    "            parent = self.root.right_child\n",
    "            return self.__find__(val, parent)\n",
    "    def __find__(self, val, parent):\n",
    "        if not parent: return\n",
    "        if val == parent.key:\n",
    "            return parent\n",
    "        elif val < parent.key:\n",
    "            parent = parent.left_child\n",
    "            self.__find__(val, parent)\n",
    "        else:\n",
    "            parent = parent.right_child\n",
    "            self.__find__(val, parent)\n",
    "    def findmin(self):\n",
    "        if not self.root:\n",
    "            return\n",
    "        parent = self.root\n",
    "        while parent.left_child:\n",
    "            parent = parent.left_child\n",
    "        return parent\n",
    "    def __findmin__(self, node):\n",
    "        parent = node\n",
    "        while parent.left_child:\n",
    "            parent = parent.left_child\n",
    "        return parent\n",
    "    def parent(self, node):\n",
    "        parent = node.parent\n",
    "        if parent and parent.left_child == node: return parent, \"left\"\n",
    "        else: return parent, \"right\"\n",
    "    def next_larger(self, node):\n",
    "        if type(node) == int: \n",
    "            node = self.find(node)\n",
    "        if not node: return\n",
    "        if node.right_child:\n",
    "            return self.__findmin__(node.right_child)\n",
    "        parent, child = self.parent(node)\n",
    "        while parent and child == \"right\":\n",
    "            parent, child = self.parent(parent)\n",
    "        return parent\n",
    "    def __rank__(self, parent, t):\n",
    "        if not parent: return 0\n",
    "        if parent.key == t:\n",
    "            return 1 + self.__get_num_of_nodes__(parent.left_child)\n",
    "        elif parent.key > t:\n",
    "            return self.__rank__(parent.left_child, t)\n",
    "        else:\n",
    "            return 1 + self.__get_num_of_nodes__(parent.left_child) + self.__rank__(parent.right_child, t)\n",
    "    def __get_num_of_nodes__(self, node):\n",
    "        if not node: return 0\n",
    "        return node.num_of_nodes\n",
    "    def rank(self, t):\n",
    "        # how many planes will arrive <= t\n",
    "        if not self.root: return 0\n",
    "        parent = self.root\n",
    "        if parent.key == t:\n",
    "            total = 1 + self.__get_num_of_nodes__(parent.left_child)\n",
    "        elif parent.key > t:\n",
    "            total = self.__rank__(parent.left_child, t)\n",
    "        else:\n",
    "            total = 1 + self.__get_num_of_nodes__(parent.left_child) + self.__rank__(parent.right_child, t)\n",
    "        return total"
   ]
  },
  {
   "cell_type": "code",
   "execution_count": 2,
   "metadata": {},
   "outputs": [],
   "source": [
    "air_landing = BST_for_airport_landing()\n",
    "airplanes_times = [49, 46, 79, 43, 64, 83]\n",
    "for t in airplanes_times:\n",
    "    air_landing.insert(t)"
   ]
  },
  {
   "cell_type": "markdown",
   "metadata": {},
   "source": [
    "#### how many airlines arrive at the airport <= 79"
   ]
  },
  {
   "cell_type": "code",
   "execution_count": 32,
   "metadata": {},
   "outputs": [
    {
     "data": {
      "text/plain": [
       "5"
      ]
     },
     "execution_count": 32,
     "metadata": {},
     "output_type": "execute_result"
    }
   ],
   "source": [
    "air_landing.rank(79)"
   ]
  },
  {
   "cell_type": "markdown",
   "metadata": {},
   "source": [
    "#### how many airlines arrive at the airport <= 46"
   ]
  },
  {
   "cell_type": "code",
   "execution_count": 33,
   "metadata": {},
   "outputs": [
    {
     "data": {
      "text/plain": [
       "2"
      ]
     },
     "execution_count": 33,
     "metadata": {},
     "output_type": "execute_result"
    }
   ],
   "source": [
    "air_landing.rank(46)"
   ]
  },
  {
   "cell_type": "markdown",
   "metadata": {},
   "source": [
    "#### what time an airline arrive at the airport after the airline arrive at 79"
   ]
  },
  {
   "cell_type": "code",
   "execution_count": 34,
   "metadata": {},
   "outputs": [
    {
     "data": {
      "text/plain": [
       "83"
      ]
     },
     "execution_count": 34,
     "metadata": {},
     "output_type": "execute_result"
    }
   ],
   "source": [
    "air_landing.next_larger(79).key"
   ]
  },
  {
   "cell_type": "markdown",
   "metadata": {},
   "source": [
    "#### what time an airline arrive at the airport after the airline arrive at 83"
   ]
  },
  {
   "cell_type": "code",
   "execution_count": 36,
   "metadata": {},
   "outputs": [],
   "source": [
    "air_landing.next_larger(83)"
   ]
  },
  {
   "cell_type": "markdown",
   "metadata": {},
   "source": [
    "#### what is the earliest airline"
   ]
  },
  {
   "cell_type": "code",
   "execution_count": 38,
   "metadata": {},
   "outputs": [
    {
     "data": {
      "text/plain": [
       "43"
      ]
     },
     "execution_count": 38,
     "metadata": {},
     "output_type": "execute_result"
    }
   ],
   "source": [
    "air_landing.findmin().key"
   ]
  },
  {
   "cell_type": "markdown",
   "metadata": {},
   "source": [
    "#### proof for bst_sort"
   ]
  },
  {
   "cell_type": "markdown",
   "metadata": {},
   "source": [
    "by induction\n",
    "\n",
    "1\n",
    "we know next_larger will return none when there are no nodes, so while loop will stop definitely.\n",
    "\n",
    "2\n",
    "when L = [], return [], correct;\n",
    "when L = [ele1], _min_=ele1, when in the while loop, sorte_list = [ele1], _min_=none, return [ele1], correct.\n",
    "\n",
    "3\n",
    "Assume when with N elements true, to prove when with N+1 elements also true.\n",
    "\n",
    "before loop, sorted_list = [], _min_ = minnode;\n",
    "in the 1st loop, sorted_list = [ele1], _min_ = minnode\n",
    "in the 2ed loop, sorted_list = [ele1, ele2], _min_ = minnode......\n",
    "in the n loop, sorted_list = [ele1, ele2, ..., $ele_{n}$], _min_ = lastest_node\n",
    "in the n+1 loop, sorted_list = [ele1,......,$ele_{n}$,lastest_node], _min_ = None\n",
    "finish the loop, the result = sorted_list is correctly sorted, _min_=None\n",
    "\n",
    "4\n",
    "Done"
   ]
  },
  {
   "cell_type": "markdown",
   "metadata": {},
   "source": [
    "#### use BST sort"
   ]
  },
  {
   "cell_type": "code",
   "execution_count": 19,
   "metadata": {},
   "outputs": [
    {
     "name": "stdout",
     "output_type": "stream",
     "text": [
      "[1, 2, 3, 4, 5, 6, 7, 8]\n"
     ]
    }
   ],
   "source": [
    "import math\n",
    "def bst_sort(L):\n",
    "    bst = BST_for_airport_landing(k=0)\n",
    "    for v in L: # O(Nlog(N))\n",
    "        bst.insert(v) # O(log(N))\n",
    "    sorted_list = []\n",
    "    _min_ = bst.findmin() # O(log(N))\n",
    "    while _min_: # O(Nlog(N))\n",
    "        sorted_list.append(_min_.key)\n",
    "        _min_ = bst.next_larger(_min_) # O(log(N))\n",
    "    return sorted_list\n",
    "L = [4,3,2,1,8,7,6,5]\n",
    "print(bst_sort(L))"
   ]
  },
  {
   "cell_type": "code",
   "execution_count": 24,
   "metadata": {},
   "outputs": [],
   "source": [
    "from random import random\n",
    "random_sorted = []\n",
    "for i in range(100):\n",
    "    random_sorted.append(random())\n",
    "random_unsorted = random_sorted.copy()\n",
    "random_sorted.sort()\n",
    "assert(random_sorted == bst_sort(random_unsorted))"
   ]
  }
 ],
 "metadata": {
  "kernelspec": {
   "display_name": "Python 3",
   "language": "python",
   "name": "python3"
  },
  "language_info": {
   "codemirror_mode": {
    "name": "ipython",
    "version": 3
   },
   "file_extension": ".py",
   "mimetype": "text/x-python",
   "name": "python",
   "nbconvert_exporter": "python",
   "pygments_lexer": "ipython3",
   "version": "3.8.5"
  }
 },
 "nbformat": 4,
 "nbformat_minor": 5
}
