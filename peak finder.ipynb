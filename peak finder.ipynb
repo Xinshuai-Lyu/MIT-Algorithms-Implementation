{
 "cells": [
  {
   "cell_type": "markdown",
   "id": "spatial-breach",
   "metadata": {},
   "source": [
    "### Problem: with n real numbers in list N, find an index i, which $N_{i} \\ge N_{i-1}$ and $N_{i} \\ge N_{i+1}$"
   ]
  },
  {
   "cell_type": "markdown",
   "id": "arctic-alexandria",
   "metadata": {},
   "source": [
    "#### it always exists a peak point.\n",
    "\n",
    "Proof by Contradiction:\n",
    "\n",
    "Assume there is no such an index i, which fits the rule $N_{i} \\ge N_{i-1}$ and $N_{i} \\ge N_{i+1}$, so either $N_{i} \\lt N_{i-1}$ or $N_{i} \\lt N_{i+1}$ for all i. \n",
    "\n",
    "Case 1: horizontal line\n",
    "\n",
    "$N_{i} = N_{i-1}$ and $N_{i} = N_{i+1}$, so the assumption cannot stand on this case.\n",
    "\n",
    "Case 2: increasing linear line\n",
    "\n",
    "$N_{end} \\gt N_{end-1}$, so the assumption cannot stand on this case.\n",
    "\n",
    "Case 3: decreasing linear line\n",
    "\n",
    "$N_{0} \\gt N_{1}$, so the assumption cannot stand on this case.\n",
    "\n",
    "Case 4: non-linear line\n",
    "\n",
    "There should exist a point that $N_{i} \\ge N_{i-1}$ and $N_{i} \\ge N_{i+1}$ in 2d, so the assumption cannot stand on this case."
   ]
  },
  {
   "cell_type": "markdown",
   "id": "subtle-portable",
   "metadata": {},
   "source": [
    "#### Worst Complexity $\\theta{(n)}$ Average Complexity $\\theta{(n/2)}$ from the binomial distribution expectation calculation"
   ]
  },
  {
   "cell_type": "markdown",
   "id": "powerful-glory",
   "metadata": {},
   "source": [
    "Proof By Induction:\n",
    "\n",
    "1. \n",
    "when find the peak, i=current i, return i, the loop will stop.\n",
    "\n",
    "2. \n",
    "when N only contains 1 elements, then return current i=0. done\n",
    "   \n",
    "3. \n",
    "Assume N is true, to prove N+1 is true.\n",
    "if N return the result from i=0 to N-2, no influence, return current i;\n",
    "if N return the result from N-1(the last element), then N[i-1] will \n",
    "compare with N[i], if N[i-1] >= N[i], then return current i=N-1, if not, then return current i=N. done\n",
    "    \n",
    "4. \n",
    "done"
   ]
  },
  {
   "cell_type": "code",
   "execution_count": 1,
   "id": "opposite-killer",
   "metadata": {},
   "outputs": [],
   "source": [
    "test1 = [1,3,4,5,2,5,6]"
   ]
  },
  {
   "cell_type": "code",
   "execution_count": 2,
   "id": "equivalent-killer",
   "metadata": {},
   "outputs": [],
   "source": [
    "def _1d_peak_finder_v1(N):\n",
    "    for i in range(len(N)):\n",
    "        if i == 0:\n",
    "            if N[i] >= N[i+1]:\n",
    "                return i\n",
    "        elif i == len(N) - 1:\n",
    "            if N[i] >= N[i-1]:\n",
    "                return i\n",
    "        else:\n",
    "            if N[i] >= N[i-1] and N[i] >= N[i+1]:\n",
    "                return i"
   ]
  },
  {
   "cell_type": "code",
   "execution_count": 3,
   "id": "wrapped-mouth",
   "metadata": {},
   "outputs": [],
   "source": [
    "assert(_1d_peak_finder_v1(test1) == 3)"
   ]
  },
  {
   "cell_type": "markdown",
   "id": "changed-future",
   "metadata": {},
   "source": [
    "#### Worst Complexity $\\theta{(logn)}$ from T(N) = T(2/N) + $\\theta(1)$"
   ]
  },
  {
   "cell_type": "markdown",
   "id": "accredited-vatican",
   "metadata": {},
   "source": [
    "Proof By Induction:\n",
    "\n",
    "1. \n",
    "when into a new loop, the start_i=start_i and end_i=(start_i+end_i)//2 or \n",
    "start_i=(start_i+end_i)//2+1 and end_i=end_i; so at most in $log_{2}^N$ steps, when start_i == end_i, the loop will stop.\n",
    "\n",
    "2. \n",
    "when N only contains 1 elements, start_i=0, end_i=0; return 0, done.\n",
    "   \n",
    "3. \n",
    "Assume N is true, to prove N+1 is true.\n",
    "the 1st loop, start_i=0, end_i=n-1, i=(n-1)//2, if N[(n-1)//2] >= N[(n-1)//2-1] and N[(n-1)//2] >= N[(n-1)//2+1], then return i;\n",
    "but if N[(n-1)//2] < N[(n-1)//2-1], then go to 2nd loop, now, start_i=0, end_i=(n-1)//2; or N[(n-1)//2] < N[(n-1)//2+1], then \n",
    "start_i=(n-1)//2+1, end_i=n ... repeat until we find i. During the procedure, the loop related parameters work as assumed.\n",
    "    \n",
    "4. \n",
    "done"
   ]
  },
  {
   "cell_type": "code",
   "execution_count": 4,
   "id": "subtle-counter",
   "metadata": {},
   "outputs": [],
   "source": [
    "def _1d_peak_finder_v2(start_i, end_i, N):\n",
    "    if start_i == end_i:\n",
    "        return start_i\n",
    "    else:\n",
    "        i = (start_i + end_i) // 2\n",
    "        if N[i] >= N[max(0,i-1)] and N[i] >= N[min(i+1, len(N)-1)]:\n",
    "            return i\n",
    "        elif N[i] < N[i-1]:\n",
    "            return _1d_peak_finder_v2(start_i, i) \n",
    "        else:\n",
    "            return _1d_peak_finder_v2(i+1, end_i) "
   ]
  },
  {
   "cell_type": "code",
   "execution_count": 5,
   "id": "inappropriate-building",
   "metadata": {},
   "outputs": [],
   "source": [
    "assert(_1d_peak_finder_v2(0, len(test1)-1, test1) == 3)"
   ]
  },
  {
   "cell_type": "markdown",
   "id": "purple-major",
   "metadata": {},
   "source": [
    "### Problem: with n x m real numbers in matrix M, find an index i, which $N_{i,j} \\ge N_{i-1,j}$, $N_{i,j} \\ge N_{i+1,j}$, $N_{i,j} \\ge N_{i,j-1}$, and $N_{i,j} \\ge N_{i,j+1}$"
   ]
  },
  {
   "cell_type": "markdown",
   "id": "liquid-embassy",
   "metadata": {},
   "source": [
    "#### Complexity T(m,n) = T(n/2) + m = $log_{2}^n*m$"
   ]
  },
  {
   "cell_type": "markdown",
   "id": "emotional-cheese",
   "metadata": {},
   "source": [
    "Proof By Induction:\n",
    "\n",
    "1. \n",
    "when into a new loop, the j_start=j_start and j_end=(j_start+j_end)//2 or \n",
    "start_i=(j_start+j_end)//2 and j_end=j_end; so at most in $log_{2}^N$ steps, when j_start == j_end, the loop will stop.\n",
    "\n",
    "2. \n",
    "when M only contains 1 columns, j_start=0, j_end=0; then find the the biggest value in column j_start, and get the row i, return i,0. done. \n",
    "   \n",
    "3. \n",
    "Assume M is true, to prove M+1 is true.\n",
    "the 1st loop, j_start=0, j_end=n-1, j_middle=(n-1)//2, Find the the biggest value in column j_middle, and get the row i, if N[i][(n-1)//2] >= N[i][(n-1)//2-1] and N[i][(n-1)//2] >= N[i][(n-1)//2+1], then return i, j_middle;\n",
    "but if N[i][(n-1)//2] < N[i][(n-1)//2-1], then go to 2nd loop, now, j_start=0, j_end=(n-1)//2-1; or N[i][(n-1)//2] < N[i][(n-1)//2+1], then \n",
    "j_start=(n-1)//2, j_end=n-1 ... repeat until we find i,j. During the procedure, the loop related parameters work as assumed.\n",
    "    \n",
    "4. \n",
    "done"
   ]
  },
  {
   "cell_type": "code",
   "execution_count": 29,
   "id": "activated-mississippi",
   "metadata": {},
   "outputs": [],
   "source": [
    "test1 = [[1,2,3,4], [5,6,7,8]]\n",
    "test2 = [[1,2,3,4], [5,6,7,3]]"
   ]
  },
  {
   "cell_type": "code",
   "execution_count": 18,
   "id": "behind-albert",
   "metadata": {},
   "outputs": [],
   "source": [
    "def get_max_value_index_in_this_column(j_start, M):\n",
    "    max_index = 0\n",
    "    max_value = M[0][j_start]\n",
    "    for i in range(len(M)):\n",
    "        if M[i][j_start] > max_value:\n",
    "            max_value = M[i][j_start]\n",
    "            max_index = i\n",
    "    return max_index\n",
    "def _2d_peak_finder(j_start, j_end, M):\n",
    "    if j_start == j_end:\n",
    "        i = get_max_value_index_in_this_column(j_start, M)\n",
    "        return (i, j_start)\n",
    "    middle_column = (j_start + j_end) // 2\n",
    "    i = get_max_value_index_in_this_column(middle_column, M)\n",
    "    if M[i][middle_column] >= M[i][max(0, middle_column-1)] and M[i][middle_column] >= M[i][min(middle_column+1, len(M[0])-1)]:\n",
    "        return (i, middle_column)\n",
    "    elif M[i][middle_column] < M[i][middle_column-1]:\n",
    "        return _2d_peak_finder(j_start, middle_column, M)\n",
    "    else:\n",
    "        return _2d_peak_finder(middle_column+1, j_end, M)"
   ]
  },
  {
   "cell_type": "code",
   "execution_count": 31,
   "id": "incredible-gardening",
   "metadata": {},
   "outputs": [],
   "source": [
    "assert(_2d_peak_finder(0, len(test1[0])-1, test1) == (1,3))\n",
    "assert(_2d_peak_finder(0, len(test1[0])-1, test2) == (1,2))"
   ]
  }
 ],
 "metadata": {
  "kernelspec": {
   "display_name": "Python 3",
   "language": "python",
   "name": "python3"
  },
  "language_info": {
   "codemirror_mode": {
    "name": "ipython",
    "version": 3
   },
   "file_extension": ".py",
   "mimetype": "text/x-python",
   "name": "python",
   "nbconvert_exporter": "python",
   "pygments_lexer": "ipython3",
   "version": "3.8.8"
  }
 },
 "nbformat": 4,
 "nbformat_minor": 5
}
