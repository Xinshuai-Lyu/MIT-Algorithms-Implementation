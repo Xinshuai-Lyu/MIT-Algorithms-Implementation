{
 "cells": [
  {
   "cell_type": "code",
   "execution_count": 1,
   "id": "complex-action",
   "metadata": {},
   "outputs": [],
   "source": [
    "import random"
   ]
  },
  {
   "cell_type": "markdown",
   "id": "isolated-groove",
   "metadata": {},
   "source": [
    "Proof for merge_sort by induction\n",
    "\n",
    "1\n",
    "when len(L) <= 1, the loop will stop, and this can be achieved by continuously half L.\n",
    "\n",
    "2\n",
    "when L = [], return [], correct;\n",
    "when L = [e1], return [e1], correct;\n",
    "when L = [e1, e2], len(L)=2, i=0, j=2, middle=1, left_sorted_list=merge_sort([e1])=[e1], right_sorted_list=merge_sort([e2])=[e2]; then merge([e1], [e2], \"increase\"/\"decrease\"),\n",
    "merged_list=[], i,j=0, len(left_sorted_list)=1, len(right_sorted_list)=1, if e1<=e2, if increase, put e1\n",
    "into merged_list, i=1; if decrease, put e2 into merged_list, j=1; if e1>e2, if increase, put e2 into merged_list, j=1, else\n",
    "put e1, i=1; the while loop stops, if i=0 left_sorted_list[0:]=e1, right_sorted_list[1:]=[], merged_list will return correctly.\n",
    "\n",
    "3\n",
    "Assume len(L)=N is true, to prove len(L)=N+1 still true.\n",
    "\n",
    "len(L)=N+1, i=0, j=N+1, middle=(N+1)//2, left_sorted_list=merge_sort([$e1,...,e_{m-1}$]), right_sorted_list=merge_sort([$e_{m},...,e_{n+1}$]), then merge([$e1,...,e_{m-1}$], [$e_{m},...,e_{n+1}$]),\n",
    "merged_list=[], i,j=0, if e1<=$e_{m}$, merged_list=[e1], i=1; then compare e2 with $e_{m}$, if e2 > $e_{m}$, then merged_list=[e1, $e_{m}$], j=1......until either i=len(left_sorted_list) or j=len(right_sorted_list), we extend merged_list with the remaing elements of either left or right. \n",
    "\n",
    "4 Done"
   ]
  },
  {
   "cell_type": "code",
   "execution_count": 29,
   "id": "christian-vitamin",
   "metadata": {},
   "outputs": [],
   "source": [
    "def merge(left_sorted_list, right_sorted_list, direction):\n",
    "    merged_list = []\n",
    "    i,j = 0,0\n",
    "    while i < len(left_sorted_list) and j < len(right_sorted_list):\n",
    "        if left_sorted_list[i] <= right_sorted_list[j]:\n",
    "            merged_list.append(left_sorted_list[i] if direction==\"increase\" else right_sorted_list[j])\n",
    "            if direction==\"increase\":\n",
    "                i += 1  \n",
    "            else:\n",
    "                j += 1\n",
    "        else:\n",
    "            merged_list.append(right_sorted_list[j] if direction==\"increase\" else left_sorted_list[i])\n",
    "            if direction==\"increase\":\n",
    "                j += 1  \n",
    "            else:\n",
    "                i += 1\n",
    "    merged_list.extend(left_sorted_list[i:])\n",
    "    merged_list.extend(right_sorted_list[j:])\n",
    "    return merged_list\n",
    "def merge_sort(L, direction=\"increase\"):\n",
    "    if len(L) <= 1: # O(1)\n",
    "        return L\n",
    "    else:\n",
    "        i = 0\n",
    "        j = len(L) \n",
    "        middle = (i + j) // 2\n",
    "        left_sorted_list = merge_sort(L[i:middle], direction) # O(N/2)\n",
    "        right_sorted_list = merge_sort(L[middle:j], direction) # O(N/2)\n",
    "        return merge(left_sorted_list, right_sorted_list, direction) # O(N)"
   ]
  },
  {
   "cell_type": "code",
   "execution_count": 32,
   "id": "smooth-tissue",
   "metadata": {},
   "outputs": [],
   "source": [
    "test1 = []\n",
    "for i in range(100):\n",
    "    test1.append(random.random())\n",
    "test2 = test1.copy()\n",
    "test2.sort()\n",
    "test3 = test1.copy()\n",
    "test3.sort(reverse=True)\n",
    "assert(merge_sort(test1, direction=\"increase\") == test2)\n",
    "assert(merge_sort(test1, direction=\"decrease\") == test3)"
   ]
  }
 ],
 "metadata": {
  "kernelspec": {
   "display_name": "Python 3",
   "language": "python",
   "name": "python3"
  },
  "language_info": {
   "codemirror_mode": {
    "name": "ipython",
    "version": 3
   },
   "file_extension": ".py",
   "mimetype": "text/x-python",
   "name": "python",
   "nbconvert_exporter": "python",
   "pygments_lexer": "ipython3",
   "version": "3.8.8"
  }
 },
 "nbformat": 4,
 "nbformat_minor": 5
}
