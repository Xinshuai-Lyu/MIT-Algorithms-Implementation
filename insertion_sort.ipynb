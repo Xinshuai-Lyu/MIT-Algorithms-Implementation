{
 "cells": [
  {
   "cell_type": "markdown",
   "id": "ideal-internship",
   "metadata": {},
   "source": [
    "Proof insertion_sort_v1 by induction\n",
    "\n",
    "1\n",
    "outer loop will have len(L) loops, then stop; when i=-1, the inner loop will stop.\n",
    "\n",
    "2\n",
    "If len(L)=0, sorted_list=[], outer loop number=0, return [] correct;\n",
    "If len(L)=1, before the outer loop, sorted_list=[], sorted already; when 1st outer loop begins, sorted_list=[ele1], sorted already; the outer loop finished, L is now sorted and all the elements are in sorted_list, return [ele1].\n",
    "\n",
    "3\n",
    "Assume N is true, to prove N+1 is true.\n",
    "1st outer loop, sorted_list=[ele1], outer loop number +1; 2ed outer loop, sorted_list=[ele1, ele2](not ordered yet), the procedure goes to the inner loop, i=1, sorted_list[0]=ele1, sorted_list[1]=ele2, we compare these 2 if necessary, if ele2 do not need to swap with ele1, the inner loop will stop, or swap, so sorted_list=[ele2, ele1], we can make sure, after inner loop, sorted_list=[ele1, ele2] will be in correct order; 3rd outer loop, sorted_list=[ele1, ele2, ele3](not ordered yet), the proedure goes to the inner loop, i=2, sorted_list[1]=ele2, sorted_list[2]=ele3, we will order it correctly, then maybe i=1, sorted_list[0]=ele1, sorted_list[1]=ele3, we will order it correctly when out of the inner loop ...... when the outloop number is N+1, we go to the inner loop, i=n, we can correctly order sorted_list[n-1] and sorted_list[n] until sorted_list[0], then i=-1, all loop finished. the final result will be an ordered L by returning ordered_list.\n",
    "\n",
    "4\n",
    "done"
   ]
  },
  {
   "cell_type": "code",
   "execution_count": 8,
   "id": "usual-oxford",
   "metadata": {},
   "outputs": [],
   "source": [
    "test1 = [6,5,4,3,2,1,0]\n",
    "test2 = [1,2,3,6,5,4,0]\n",
    "increase = [0,1,2,3,4,5,6]\n",
    "decrease = [6,5,4,3,2,1,0]"
   ]
  },
  {
   "cell_type": "code",
   "execution_count": 9,
   "id": "handmade-cinema",
   "metadata": {},
   "outputs": [],
   "source": [
    "def insertion_sort_v1(L, direction=\"increase\"):\n",
    "    def compare_and_swap(i, ele1, ele2, L, direction):\n",
    "        if i == 0: return\n",
    "        if direction == \"increase\":\n",
    "            if ele2 >= ele1:\n",
    "                return None\n",
    "        else:\n",
    "            if ele2 <= ele1:\n",
    "                return None\n",
    "        L[i-1] = ele2\n",
    "        L[i] = ele1\n",
    "        return True       \n",
    "    sorted_list = []\n",
    "    for element in L:\n",
    "        if not sorted_list:\n",
    "            sorted_list.append(element)\n",
    "        else:\n",
    "            # compare and swap complexity O(n)\n",
    "            sorted_list.append(element)\n",
    "            for i in range(len(sorted_list)-1, -1, -1):\n",
    "                if compare_and_swap(i, sorted_list[max(0, i-1)], sorted_list[i], sorted_list, direction):\n",
    "                    continue\n",
    "                break\n",
    "    return sorted_list"
   ]
  },
  {
   "cell_type": "code",
   "execution_count": 10,
   "id": "recorded-wells",
   "metadata": {},
   "outputs": [],
   "source": [
    "assert(insertion_sort_v1(test1, direction=\"increase\") == increase)\n",
    "assert(insertion_sort_v1(test2, direction=\"increase\") == increase)\n",
    "assert(insertion_sort_v1(test1, direction=\"decrease\") == decrease)\n",
    "assert(insertion_sort_v1(test2, direction=\"decrease\") == decrease)"
   ]
  },
  {
   "cell_type": "markdown",
   "id": "available-program",
   "metadata": {},
   "source": [
    "Proof insertion_sort_v2 by induction\n",
    "\n",
    "1\n",
    "outer loop will stop when loop len(L) times, regression will stop when L[middle]=ele or i=j.\n",
    "\n",
    "2\n",
    "when L=[], outer loop number is 0, return [] correct;\n",
    "when L=[ele1], in 1st loop, sorted_list=[ele1], then finish the outer loop, return [ele1], correct.\n",
    "\n",
    "3\n",
    "Assume len(L)=N True, to prove len(L)=N+1 True\n",
    "\n",
    "in 1st loop, sorted_list=[ele1], correct, in 2ed loop, goes into the else block, we call compare(0, 0, [ele1], ele2), then middle=0, if ele1=ele2, i=1, then swap(1, [ele1], ele2), sorted_list=[ele1, ele2], i_temp=1, the swap loop ends, return [ele1, ele2] correct; if in compare, ele1 > ele2, i=0, then swap(0, [ele1], ele2), sorted_list=[ele1, ele2], i_temp=1, i=0, in the 1st swap inner loop, L[1] = ele1, then i_temp=0, stop the inner loop, then L[0] = ele2, return [ele2, ele1], correct; if in compare, ele1 < ele2, i=1, correct; in 3rd outer loop, compare(0, 1, [ele1, ele2], ele3), middle=0, assume L[0]=ele3, then i=1, then swap(1, [ele1, ele2], ele3), sorted_list=[ele1, ele2, ele3], i_temp=2, L[2]=L[1]=ele2, then i_temp=1, stop inner loop, L[1]=ele3, then sorted_list=[ele1, ele3, ele2] correct; assume L[0] > ele3, then compare(0, 0, [ele1, ele2], ele3), i=-1, then swap(-1, [ele1, ele2], ele3), i_temp=2, L[2] = L[1] until 0 L[0]=L[0], then L[0]=ele3, correct; assume L[0]<ele, then compare(1, 1, [ele1, ele2], ele3), assume L[1]>ele3, i=1, swap(1, [ele1, ele2], ele3), then L=[ele1, ele2, ele3], i_temp=2, i=1, L[2]=ele2, finish swap inner loop, L[1]=ele3, return [ele1, ele3, ele2] correct......when compare(0, n-1, [ele1,...,ele_n], ele_n_plus_1), middle=(n-1)//2, seems no need to write more, too much...... finish outer loop, the sorted_list should be correct.\n",
    "\n",
    "4\n",
    "done"
   ]
  },
  {
   "cell_type": "code",
   "execution_count": 17,
   "id": "simplified-colony",
   "metadata": {},
   "outputs": [],
   "source": [
    "def insertion_sort_v2(L, direction=\"increase\"):\n",
    "    def compare(i, j, L, ele):\n",
    "        middle = (i + j) // 2\n",
    "        if L[middle] == ele:\n",
    "            return middle + 1 \n",
    "        elif L[middle] > ele:\n",
    "            if i == j:\n",
    "                return i if direction==\"increase\" else i+1\n",
    "            return compare(i, middle, L, ele) if direction==\"increase\" else compare(middle+1, j, L, ele)\n",
    "        else:\n",
    "            if i == j:\n",
    "                return i + 1 if direction==\"increase\" else i\n",
    "            return compare(middle+1, j, L, ele) if direction==\"increase\" else compare(i, middle, L, ele)\n",
    "    def swap(i, L, ele):\n",
    "        L.append(ele)\n",
    "        for i_temp in range(len(L)-1, i, -1):\n",
    "            L[i_temp] = L[max(0,i_temp-1)]\n",
    "        if i == -1:\n",
    "            i = 0\n",
    "        L[i] = ele\n",
    "    sorted_list = []\n",
    "    for element in L:\n",
    "        if not sorted_list:\n",
    "            sorted_list.append(element)\n",
    "        else:\n",
    "            i = compare(0, len(sorted_list)-1, sorted_list, element) # complexity O(logN)\n",
    "            swap(i, sorted_list, element) # complexity O(N)\n",
    "    return sorted_list"
   ]
  },
  {
   "cell_type": "code",
   "execution_count": 18,
   "id": "dependent-prefix",
   "metadata": {},
   "outputs": [],
   "source": [
    "assert(insertion_sort_v2(test1, direction=\"increase\") == increase)\n",
    "assert(insertion_sort_v2(test2, direction=\"increase\") == increase)\n",
    "assert(insertion_sort_v2(test1, direction=\"decrease\") == decrease)\n",
    "assert(insertion_sort_v2(test2, direction=\"decrease\") == decrease)"
   ]
  }
 ],
 "metadata": {
  "kernelspec": {
   "display_name": "Python 3",
   "language": "python",
   "name": "python3"
  },
  "language_info": {
   "codemirror_mode": {
    "name": "ipython",
    "version": 3
   },
   "file_extension": ".py",
   "mimetype": "text/x-python",
   "name": "python",
   "nbconvert_exporter": "python",
   "pygments_lexer": "ipython3",
   "version": "3.8.8"
  }
 },
 "nbformat": 4,
 "nbformat_minor": 5
}
